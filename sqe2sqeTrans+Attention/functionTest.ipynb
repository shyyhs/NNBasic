{
 "cells": [
  {
   "cell_type": "code",
   "execution_count": 1,
   "metadata": {},
   "outputs": [],
   "source": [
    "import re\n",
    "import unicodedata"
   ]
  },
  {
   "cell_type": "code",
   "execution_count": 13,
   "metadata": {},
   "outputs": [],
   "source": [
    "s = \"1234abcd\""
   ]
  },
  {
   "cell_type": "code",
   "execution_count": 16,
   "metadata": {},
   "outputs": [
    {
     "name": "stdout",
     "output_type": "stream",
     "text": [
      "2\n",
      "torch.Size([1, 1, 256])\n"
     ]
    },
    {
     "name": "stderr",
     "output_type": "stream",
     "text": [
      "/home/song/.local/lib/python3.6/site-packages/ipykernel_launcher.py:7: UserWarning: Implicit dimension choice for softmax has been deprecated. Change the call to include dim=X as an argument.\n",
      "  import sys\n"
     ]
    }
   ],
   "source": [
    "import numpy as np\n",
    "import torch\n",
    "import torch.nn as nn\n",
    "import torch.nn.functional as F\n",
    "a = torch.tensor([[1,2,3,4]],dtype=torch.float32)\n",
    "aa = torch.tensor([[5,6,7,8]])\n",
    "b = F.softmax(a[0])\n",
    "b = torch.nn.LogSoftmax()\n",
    "a = torch.randn((2,3))\n",
    "print (a.shape[0])\n",
    "embedding = nn.Embedding(4920, 256)\n",
    "input = torch.LongTensor([[1]])\n",
    "output = embedding(input)\n",
    "print (output.size())"
   ]
  },
  {
   "cell_type": "code",
   "execution_count": 1,
   "metadata": {},
   "outputs": [
    {
     "name": "stdout",
     "output_type": "stream",
     "text": [
      "gobalSetting begins\n",
      "cuda\n"
     ]
    }
   ],
   "source": [
    "# %load globalSetting.py\n",
    "from __future__ import unicode_literals, print_function, division\n",
    "\n",
    "import sys\n",
    "import os\n",
    "import glob\n",
    "import time\n",
    "import math\n",
    "import random\n",
    "\n",
    "from io import open\n",
    "import unicodedata\n",
    "import re\n",
    "\n",
    "import torch\n",
    "import torch.nn as nn\n",
    "from torch import optim\n",
    "import torch.nn.functional as F\n",
    "import numpy as np\n",
    "\n",
    "#import matplotlib.pyplot as plt\n",
    "#plt.switch_backend('agg')\n",
    "#import matplotlib.ticker as ticker\n",
    "\n",
    "SOSToken = 0\n",
    "EOSToken = 1\n",
    "MAXLEN = 10\n",
    "engPrefix = (\"i am\", \"i m\", \"he is\", \"he s\", \"she is\", \"she s\",\"you are\",\n",
    "          \"you re\", \"we are\", \"we re\",\"they are\", \"they re\")\n",
    "device = torch.device(\"cuda\" if torch.cuda.is_available() else \"cpu\")\n",
    "\n",
    "\n",
    "if (__name__==\"__main__\"):\n",
    "    print(\"gobalSetting begins\")\n",
    "    print (device)\n",
    "\n",
    "if (__name__!=\"__main__\"):\n",
    "    print (\"Module: globalSetting loaded\")\n"
   ]
  },
  {
   "cell_type": "code",
   "execution_count": 19,
   "metadata": {},
   "outputs": [],
   "source": [
    "dropoutLayer = nn.Dropout(1\n",
    "                         )"
   ]
  },
  {
   "cell_type": "code",
   "execution_count": 20,
   "metadata": {},
   "outputs": [
    {
     "name": "stdout",
     "output_type": "stream",
     "text": [
      "tensor([0., 1., 2., 3., 4., 5., 6., 7., 8., 9.])\n"
     ]
    }
   ],
   "source": [
    "a = torch.tensor((list(range(10))),dtype=torch.float)\n",
    "print (a)"
   ]
  },
  {
   "cell_type": "code",
   "execution_count": 21,
   "metadata": {},
   "outputs": [
    {
     "name": "stdout",
     "output_type": "stream",
     "text": [
      "tensor([0., 0., 0., 0., 0., 0., 0., 0., 0., 0.])\n"
     ]
    }
   ],
   "source": [
    "da = dropoutLayer(a)\n",
    "print (da)"
   ]
  },
  {
   "cell_type": "code",
   "execution_count": 5,
   "metadata": {},
   "outputs": [],
   "source": [
    "m = nn.Dropout(p=0.2)\n",
    "input = torch.randn(20)\n",
    "output = m(input)"
   ]
  },
  {
   "cell_type": "code",
   "execution_count": 6,
   "metadata": {},
   "outputs": [
    {
     "name": "stdout",
     "output_type": "stream",
     "text": [
      "tensor([ 1.4227, -0.9663, -1.0891, -0.7649,  0.9584,  1.7892,  1.2121,  0.6661,\n",
      "        -0.1005,  0.3915, -2.4224,  0.0437, -1.3642,  1.1668,  0.1201, -0.8955,\n",
      "         0.6754,  0.2815,  1.5088, -0.9859])\n"
     ]
    }
   ],
   "source": [
    "print (input)"
   ]
  },
  {
   "cell_type": "code",
   "execution_count": null,
   "metadata": {},
   "outputs": [],
   "source": []
  }
 ],
 "metadata": {
  "kernelspec": {
   "display_name": "Python 3",
   "language": "python",
   "name": "python3"
  },
  "language_info": {
   "codemirror_mode": {
    "name": "ipython",
    "version": 3
   },
   "file_extension": ".py",
   "mimetype": "text/x-python",
   "name": "python",
   "nbconvert_exporter": "python",
   "pygments_lexer": "ipython3",
   "version": "3.6.5"
  }
 },
 "nbformat": 4,
 "nbformat_minor": 2
}
