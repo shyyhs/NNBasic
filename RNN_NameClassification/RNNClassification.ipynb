{
 "cells": [
  {
   "cell_type": "code",
   "execution_count": 31,
   "metadata": {},
   "outputs": [],
   "source": [
    "\"\"\"\n",
    "Follow by the PyTorch tutorial:\n",
    "https://pytorch.org/tutorials/intermediate/char_rnn_classification_tutorial.html\n",
    "\"\"\"\n",
    "from __future__ import unicode_literals, print_function, division\n",
    "from io import open\n",
    "import glob\n",
    "import os\n",
    "import torch\n",
    "def findFiles(path): return glob.iglob(path)"
   ]
  },
  {
   "cell_type": "code",
   "execution_count": 32,
   "metadata": {},
   "outputs": [],
   "source": [
    "import unicodedata\n",
    "import string\n",
    "all_letters = string.ascii_letters\n",
    "n_letters = len(all_letters)"
   ]
  },
  {
   "cell_type": "code",
   "execution_count": 33,
   "metadata": {},
   "outputs": [],
   "source": [
    "def unicodeToAscii(s):\n",
    "    return ''.join(\n",
    "    c for c in unicodedata.normalize('NFD',s)\n",
    "    if unicodedata.category(c)!='Mn' and c in all_letters)"
   ]
  },
  {
   "cell_type": "code",
   "execution_count": 34,
   "metadata": {},
   "outputs": [],
   "source": [
    "category_lines = {}\n",
    "all_categories = []\n",
    "def readlines(filename):\n",
    "    lines = open(filename,encoding='utf-8').read().strip().split('\\n')\n",
    "    return [unicodeToAscii(line) for line in lines]\n",
    "for filename in findFiles('./data/names/*.txt'):\n",
    "    category = os.path.splitext(os.path.basename(filename))[0]\n",
    "    all_categories.append(category)\n",
    "    lines = readlines(filename)\n",
    "    category_lines[category] = lines"
   ]
  },
  {
   "cell_type": "code",
   "execution_count": 35,
   "metadata": {},
   "outputs": [],
   "source": [
    "n_categories = len(all_categories)"
   ]
  },
  {
   "cell_type": "code",
   "execution_count": 36,
   "metadata": {},
   "outputs": [],
   "source": [
    "def letterToIndex(letter):\n",
    "    return all_letters.find(letter)\n",
    "def letterToTensor(letter):\n",
    "    tensor = torch.zeros(1,n_letters)\n",
    "    tensor[0][letterToIndex(letter)]=1\n",
    "    return tensor\n",
    "def lineToTensor(line):\n",
    "    tensor = torch.zeros(len(line),1,n_letters)\n",
    "    for index,c in enumerate(line):\n",
    "        tensor[index][0][letterToIndex(c)]=1\n",
    "    return tensor"
   ]
  },
  {
   "cell_type": "code",
   "execution_count": 37,
   "metadata": {},
   "outputs": [],
   "source": [
    "import torch.nn as nn\n",
    "class RNN(nn.Module):\n",
    "    def __init__(self, input_size, hidden_size, output_size):\n",
    "        super(RNN, self).__init__()\n",
    "        \n",
    "        self.hidden_size = hidden_size\n",
    "        self.i2h = nn.Linear(input_size + hidden_size, hidden_size)\n",
    "        self.i2o = nn.Linear(input_size + hidden_size, output_size)\n",
    "        self.softmax = nn.LogSoftmax(dim=1)\n",
    "    def forward(self, input, hidden):\n",
    "        combined = torch.cat((input,hidden),1)\n",
    "        hidden = self.i2h(combined)\n",
    "        output = self.i2o(combined)\n",
    "        output = self.softmax(output)\n",
    "        return output, hidden\n",
    "    def initHidden(self):\n",
    "        return torch.zeros(1,self.hidden_size)\n",
    "\n",
    "n_hidden = 128\n",
    "rnn = RNN(n_letters, n_hidden, n_categories)\n",
    "hidden = rnn.initHidden()"
   ]
  },
  {
   "cell_type": "code",
   "execution_count": 38,
   "metadata": {},
   "outputs": [],
   "source": [
    "def categoryFromOutput(output):\n",
    "    top_n, top_i = output.topk(1)\n",
    "    category_i = top_i[0].item()\n",
    "    return all_categories[category_i], category_i"
   ]
  },
  {
   "cell_type": "markdown",
   "metadata": {},
   "source": [
    "sum = 0\n",
    "for cateClass in all_categories:\n",
    "    for cateLine in category_lines[cateClass]:\n",
    "        for cateChar in cateLine:\n",
    "            sum+=1\n",
    "            if (sum>100): break\n",
    "            input = letterToTensor(cateChar)\n",
    "            output, hidden = rnn.forward(input, hidden)\n",
    "            print (output)"
   ]
  },
  {
   "cell_type": "code",
   "execution_count": 39,
   "metadata": {},
   "outputs": [],
   "source": [
    "import random\n",
    "def randomChoice(Lst):\n",
    "    return Lst[random.randint(0,len(Lst)-1)]\n",
    "def randomTrainingExample():\n",
    "    category = randomChoice(all_categories)\n",
    "    line = randomChoice(category_lines[category])\n",
    "    category_tensor = torch.tensor([all_categories.index(category)], dtype=torch.int64)\n",
    "    line_tensor = lineToTensor(line)\n",
    "    return category, line, category_tensor, line_tensor"
   ]
  },
  {
   "cell_type": "code",
   "execution_count": 40,
   "metadata": {},
   "outputs": [],
   "source": [
    "lr = 0.005\n",
    "criterion = nn.NLLLoss()\n",
    "optimizer = torch.optim.Adam(rnn.parameters(),lr=lr)\n",
    "def train(category_tensor, line_tensor):\n",
    "    hidden = rnn.initHidden()\n",
    "    rnn.zero_grad()\n",
    "    for i in range(line_tensor.size()[0]):\n",
    "        output, hidden = rnn(line_tensor[i],hidden)\n",
    "    loss = criterion(output, category_tensor)\n",
    "    loss.backward()\n",
    "    \n",
    "    for p in rnn.parameters():\n",
    "        p.data.add_(-lr, p.grad.data)\n",
    "    #optimizer.step()\n",
    "    \n",
    "    return output, loss.item()\n",
    "    "
   ]
  },
  {
   "cell_type": "code",
   "execution_count": 41,
   "metadata": {},
   "outputs": [
    {
     "name": "stdout",
     "output_type": "stream",
     "text": [
      "1000\n",
      "2000\n",
      "3000\n",
      "4000\n",
      "5000\n",
      "5000 7.090573310852051 2.1468043327331543\n",
      "6000\n",
      "7000\n",
      "8000\n",
      "9000\n",
      "10000\n",
      "10000 14.112395763397217 1.5339996814727783\n",
      "11000\n",
      "12000\n",
      "13000\n",
      "14000\n",
      "15000\n",
      "15000 20.960450410842896 1.532360315322876\n",
      "16000\n",
      "17000\n",
      "18000\n",
      "19000\n",
      "20000\n",
      "20000 27.82626175880432 2.2281713485717773\n",
      "21000\n",
      "22000\n",
      "23000\n",
      "24000\n",
      "25000\n",
      "25000 34.913585901260376 3.1051976680755615\n",
      "26000\n",
      "27000\n",
      "28000\n",
      "29000\n",
      "30000\n",
      "30000 41.848872661590576 0.5405797958374023\n",
      "31000\n",
      "32000\n",
      "33000\n",
      "34000\n",
      "35000\n",
      "35000 48.76732897758484 2.008484363555908\n",
      "36000\n",
      "37000\n",
      "38000\n",
      "39000\n",
      "40000\n",
      "40000 55.591208696365356 0.7736177444458008\n",
      "41000\n",
      "42000\n",
      "43000\n",
      "44000\n",
      "45000\n",
      "45000 62.52577829360962 0.6509284973144531\n",
      "46000\n",
      "47000\n",
      "48000\n",
      "49000\n",
      "50000\n",
      "50000 69.35223770141602 2.373375415802002\n",
      "51000\n",
      "52000\n",
      "53000\n",
      "54000\n",
      "55000\n",
      "55000 76.28531432151794 0.040216922760009766\n",
      "56000\n",
      "57000\n",
      "58000\n",
      "59000\n",
      "60000\n",
      "60000 83.50182676315308 2.4195141792297363\n",
      "61000\n",
      "62000\n",
      "63000\n",
      "64000\n",
      "65000\n",
      "65000 90.45449209213257 0.9730072021484375\n",
      "66000\n",
      "67000\n",
      "68000\n",
      "69000\n",
      "70000\n",
      "70000 97.36274552345276 0.4348921775817871\n",
      "71000\n",
      "72000\n",
      "73000\n",
      "74000\n",
      "75000\n",
      "75000 104.20333194732666 0.3739309310913086\n",
      "76000\n",
      "77000\n",
      "78000\n",
      "79000\n",
      "80000\n",
      "80000 111.17083644866943 0.6819806098937988\n",
      "81000\n",
      "82000\n",
      "83000\n",
      "84000\n",
      "85000\n",
      "85000 118.08330631256104 0.2939472198486328\n",
      "86000\n",
      "87000\n",
      "88000\n",
      "89000\n",
      "90000\n",
      "90000 124.9941656589508 1.9996953010559082\n",
      "91000\n",
      "92000\n",
      "93000\n",
      "94000\n",
      "95000\n",
      "95000 132.04939818382263 1.7402147054672241\n",
      "96000\n",
      "97000\n",
      "98000\n",
      "99000\n",
      "100000\n",
      "100000 139.16300630569458 0.4596407413482666\n"
     ]
    }
   ],
   "source": [
    "import time\n",
    "import math\n",
    "n_iters = 100000\n",
    "print_every = 5000 \n",
    "plot_every = 1000\n",
    "\n",
    "current_loss = 0\n",
    "all_losses = []\n",
    "\n",
    "def timeSince(begin):\n",
    "    now = time.time()\n",
    "    s = now - begin\n",
    "    return s\n",
    "start = time.time()\n",
    "for iter in range(1,n_iters+1):\n",
    "    if (iter%1000==0):\n",
    "        print (iter)\n",
    "    category, line, category_tensor, line_tensor = randomTrainingExample()\n",
    "    output, loss = train(category_tensor, line_tensor)\n",
    "    current_loss += loss\n",
    "    if (iter%print_every==0):\n",
    "        guess, guess_i = categoryFromOutput(output)\n",
    "        print (iter,timeSince(start),loss)\n",
    "    if (iter%plot_every==0):\n",
    "        all_losses.append(current_loss/plot_every)\n",
    "        current_loss = 0\n",
    "    "
   ]
  },
  {
   "cell_type": "code",
   "execution_count": 42,
   "metadata": {},
   "outputs": [
    {
     "name": "stdout",
     "output_type": "stream",
     "text": [
      "[2.8643894004821777, 2.8192967729568483, 2.765598227262497, 2.689737408876419, 2.5384959129095077, 2.3911936583518982, 2.344194307923317, 2.3050187628269194, 2.2517122057676313, 2.185966992974281, 2.1626415011882782, 2.0765473383665083, 2.0295476409196853, 1.9703747634887696, 1.9459049736261367, 1.9527948474884034, 1.9463102716207503, 1.883125848531723, 1.8892862062454223, 1.8507020853757858, 1.7923739101886749, 1.8005051971673967, 1.8318849859237671, 1.7355795809030532, 1.7243843474388123, 1.775379772543907, 1.7040767703056336, 1.734689053297043, 1.687893889427185, 1.6184932755231858, 1.6587897423505784, 1.6968554667234421, 1.6432678327560424, 1.6214649506807328, 1.5976131479740143, 1.6234902521371841, 1.5453471617698669, 1.5718742218017578, 1.5038582504987716, 1.5522789602279663, 1.509202474951744, 1.4920276579856873, 1.5723261449337005, 1.537586970090866, 1.476572058916092, 1.5390626094341278, 1.452629992723465, 1.5365760341882706, 1.485903459072113, 1.5039130182266236, 1.4722034268379212, 1.4779534739255906, 1.4029064095020294, 1.4557754749059677, 1.402129297375679, 1.4144347045421601, 1.4261894223690033, 1.4131662839651107, 1.3902614487409592, 1.3972474583387375, 1.4686776747703552, 1.4257427662611009, 1.3963476086854936, 1.450236338019371, 1.3514309887886047, 1.4097289155721664, 1.3537701488733291, 1.4312888485193254, 1.4019859902858733, 1.400709068775177, 1.3195253694057465, 1.3375670825242996, 1.3411482878923415, 1.2770178347826004, 1.399752816438675, 1.4033504831790924, 1.3690451022386552, 1.3699580717086792, 1.3280660704374314, 1.3019028367996215, 1.3283056906461717, 1.3244681109189986, 1.316250689983368, 1.3237750842571259, 1.2912672510147094, 1.3115702477693558, 1.33599838411808, 1.3065827779769899, 1.3708956005573272, 1.3300165271759032, 1.4121378284692765, 1.3473841208219528, 1.2965817543268203, 1.3010392351150513, 1.276074640274048, 1.322352891087532, 1.266706968665123, 1.3990214525461198, 1.3779207931756974, 1.2794581052064895]\n"
     ]
    }
   ],
   "source": [
    "print (all_losses)"
   ]
  },
  {
   "cell_type": "code",
   "execution_count": 43,
   "metadata": {},
   "outputs": [],
   "source": [
    "import matplotlib.pyplot as plt\n",
    "import matplotlib.ticker as ticker\n"
   ]
  },
  {
   "cell_type": "code",
   "execution_count": 44,
   "metadata": {},
   "outputs": [
    {
     "name": "stderr",
     "output_type": "stream",
     "text": [
      "No handles with labels found to put in legend.\n"
     ]
    },
    {
     "data": {
      "image/png": "[encoded data removed]",
      "text/plain": [
       "<Figure size 432x288 with 1 Axes>"
      ]
     },
     "metadata": {
      "needs_background": "light"
     },
     "output_type": "display_data"
    }
   ],
   "source": [
    "plt.figure()\n",
    "plt.suptitle(\"Loss change\")\n",
    "plt.xlabel(\"Time\")\n",
    "plt.ylabel(\"Loss\")\n",
    "plt.legend()\n",
    "plt.plot(all_losses)\n",
    "plt.show()"
   ]
  },
  {
   "cell_type": "code",
   "execution_count": 46,
   "metadata": {},
   "outputs": [],
   "source": [
    "confusion=torch.zeros(n_categories,n_categories)\n",
    "n_confusion = 10000\n",
    "def evaluate(line_tensor):\n",
    "    hidden = rnn.initHidden()\n",
    "    for i in range(line_tensor.size()[0]):\n",
    "        output,hidden = rnn(line_tensor[i],hidden)\n",
    "    return output\n",
    "for i in range(n_confusion):\n",
    "    category,line,category_tensor,line_tensor = randomTrainingExample()\n",
    "    output = evaluate(line_tensor)\n",
    "    guess,guess_i = categoryFromOutput(output)\n",
    "    category_i = all_categories.index(category)\n",
    "    confusion[category_i][guess_i]+=1\n",
    "for i in range(n_categories):\n",
    "    confusion[i]=confusion[i]/confusion[i].sum()\n",
    "    \n"
   ]
  },
  {
   "cell_type": "code",
   "execution_count": 72,
   "metadata": {},
   "outputs": [
    {
     "data": {
      "image/png": "[encoded data removed]",
      "text/plain": [
       "<Figure size 432x288 with 2 Axes>"
      ]
     },
     "metadata": {
      "needs_background": "light"
     },
     "output_type": "display_data"
    }
   ],
   "source": [
    "fig = plt.figure()\n",
    "ax = fig.add_subplot(111)\n",
    "cax = ax.matshow(confusion.numpy())\n",
    "fig.colorbar(cax)\n",
    "ax.set_xticklabels(['']+all_categories, rotation=90)\n",
    "ax.set_yticklabels(['']+all_categories, rotation=0)\n",
    "ax.xaxis.set_major_locator(ticker.MultipleLocator(1))\n",
    "ax.yaxis.set_major_locator(ticker.MultipleLocator(1))\n",
    "plt.show()\n"
   ]
  },
  {
   "cell_type": "code",
   "execution_count": 83,
   "metadata": {},
   "outputs": [
    {
     "name": "stdout",
     "output_type": "stream",
     "text": [
      "\n",
      ">Kiyomaru\n",
      "tensor([[-0.0251, -4.0837, -6.0834]]) tensor([[ 3,  2, 15]])\n",
      "Japanese\n",
      "Arabic\n",
      "Dutch\n"
     ]
    }
   ],
   "source": [
    "def predict(input_line, n_predictions=3):\n",
    "    print('\\n>{}'.format(input_line))\n",
    "    with torch.no_grad():\n",
    "        output = evaluate(lineToTensor(input_line))\n",
    "        topv,topi=output.topk(n_predictions,1,True)\n",
    "        print (topv,topi)\n",
    "        predictions=[]\n",
    "        for i in range(n_predictions):\n",
    "            value=topv[0][i].item()\n",
    "            category_index=topi[0][i].item()\n",
    "            print('{}'.format(all_categories[category_index]))\n",
    "\n",
    "predict('Kiyomaru')"
   ]
  },
  {
   "cell_type": "code",
   "execution_count": null,
   "metadata": {},
   "outputs": [],
   "source": []
  }
 ],
 "metadata": {
  "kernelspec": {
   "display_name": "Python 3",
   "language": "python",
   "name": "python3"
  },
  "language_info": {
   "codemirror_mode": {
    "name": "ipython",
    "version": 3
   },
   "file_extension": ".py",
   "mimetype": "text/x-python",
   "name": "python",
   "nbconvert_exporter": "python",
   "pygments_lexer": "ipython3",
   "version": "3.6.5"
  }
 },
 "nbformat": 4,
 "nbformat_minor": 2
}
